{
 "cells": [
  {
   "cell_type": "code",
   "execution_count": 4,
   "id": "cc74a509",
   "metadata": {},
   "outputs": [
    {
     "name": "stdout",
     "output_type": "stream",
     "text": [
      "^C\n"
     ]
    },
    {
     "name": "stderr",
     "output_type": "stream",
     "text": [
      "\n",
      "[notice] A new release of pip is available: 24.0 -> 25.2\n",
      "[notice] To update, run: C:\\Users\\user\\AppData\\Local\\Microsoft\\WindowsApps\\PythonSoftwareFoundation.Python.3.11_qbz5n2kfra8p0\\python.exe -m pip install --upgrade pip\n"
     ]
    },
    {
     "name": "stdout",
     "output_type": "stream",
     "text": [
      "Requirement already satisfied: pandas in c:\\users\\user\\appdata\\local\\packages\\pythonsoftwarefoundation.python.3.11_qbz5n2kfra8p0\\localcache\\local-packages\\python311\\site-packages (2.3.3)\n",
      "Requirement already satisfied: numpy in c:\\users\\user\\appdata\\local\\packages\\pythonsoftwarefoundation.python.3.11_qbz5n2kfra8p0\\localcache\\local-packages\\python311\\site-packages (2.3.3)\n",
      "Requirement already satisfied: matplotlib in c:\\users\\user\\appdata\\local\\packages\\pythonsoftwarefoundation.python.3.11_qbz5n2kfra8p0\\localcache\\local-packages\\python311\\site-packages (3.10.6)\n",
      "Requirement already satisfied: seaborn in c:\\users\\user\\appdata\\local\\packages\\pythonsoftwarefoundation.python.3.11_qbz5n2kfra8p0\\localcache\\local-packages\\python311\\site-packages (0.13.2)\n",
      "Requirement already satisfied: scipy in c:\\users\\user\\appdata\\local\\packages\\pythonsoftwarefoundation.python.3.11_qbz5n2kfra8p0\\localcache\\local-packages\\python311\\site-packages (1.16.2)\n",
      "Requirement already satisfied: scikit-learn in c:\\users\\user\\appdata\\local\\packages\\pythonsoftwarefoundation.python.3.11_qbz5n2kfra8p0\\localcache\\local-packages\\python311\\site-packages (1.7.2)\n",
      "Requirement already satisfied: python-dateutil>=2.8.2 in c:\\users\\user\\appdata\\local\\packages\\pythonsoftwarefoundation.python.3.11_qbz5n2kfra8p0\\localcache\\local-packages\\python311\\site-packages (from pandas) (2.9.0.post0)\n",
      "Requirement already satisfied: pytz>=2020.1 in c:\\users\\user\\appdata\\local\\packages\\pythonsoftwarefoundation.python.3.11_qbz5n2kfra8p0\\localcache\\local-packages\\python311\\site-packages (from pandas) (2025.2)\n",
      "Requirement already satisfied: tzdata>=2022.7 in c:\\users\\user\\appdata\\local\\packages\\pythonsoftwarefoundation.python.3.11_qbz5n2kfra8p0\\localcache\\local-packages\\python311\\site-packages (from pandas) (2025.2)\n",
      "Requirement already satisfied: contourpy>=1.0.1 in c:\\users\\user\\appdata\\local\\packages\\pythonsoftwarefoundation.python.3.11_qbz5n2kfra8p0\\localcache\\local-packages\\python311\\site-packages (from matplotlib) (1.3.3)\n",
      "Requirement already satisfied: cycler>=0.10 in c:\\users\\user\\appdata\\local\\packages\\pythonsoftwarefoundation.python.3.11_qbz5n2kfra8p0\\localcache\\local-packages\\python311\\site-packages (from matplotlib) (0.12.1)\n",
      "Requirement already satisfied: fonttools>=4.22.0 in c:\\users\\user\\appdata\\local\\packages\\pythonsoftwarefoundation.python.3.11_qbz5n2kfra8p0\\localcache\\local-packages\\python311\\site-packages (from matplotlib) (4.60.1)\n",
      "Requirement already satisfied: kiwisolver>=1.3.1 in c:\\users\\user\\appdata\\local\\packages\\pythonsoftwarefoundation.python.3.11_qbz5n2kfra8p0\\localcache\\local-packages\\python311\\site-packages (from matplotlib) (1.4.9)\n",
      "Requirement already satisfied: packaging>=20.0 in c:\\users\\user\\appdata\\local\\packages\\pythonsoftwarefoundation.python.3.11_qbz5n2kfra8p0\\localcache\\local-packages\\python311\\site-packages (from matplotlib) (25.0)\n",
      "Requirement already satisfied: pillow>=8 in c:\\users\\user\\appdata\\local\\packages\\pythonsoftwarefoundation.python.3.11_qbz5n2kfra8p0\\localcache\\local-packages\\python311\\site-packages (from matplotlib) (11.3.0)\n",
      "Requirement already satisfied: pyparsing>=2.3.1 in c:\\users\\user\\appdata\\local\\packages\\pythonsoftwarefoundation.python.3.11_qbz5n2kfra8p0\\localcache\\local-packages\\python311\\site-packages (from matplotlib) (3.2.5)\n",
      "Requirement already satisfied: joblib>=1.2.0 in c:\\users\\user\\appdata\\local\\packages\\pythonsoftwarefoundation.python.3.11_qbz5n2kfra8p0\\localcache\\local-packages\\python311\\site-packages (from scikit-learn) (1.5.2)\n",
      "Requirement already satisfied: threadpoolctl>=3.1.0 in c:\\users\\user\\appdata\\local\\packages\\pythonsoftwarefoundation.python.3.11_qbz5n2kfra8p0\\localcache\\local-packages\\python311\\site-packages (from scikit-learn) (3.6.0)\n",
      "Requirement already satisfied: six>=1.5 in c:\\users\\user\\appdata\\local\\packages\\pythonsoftwarefoundation.python.3.11_qbz5n2kfra8p0\\localcache\\local-packages\\python311\\site-packages (from python-dateutil>=2.8.2->pandas) (1.17.0)\n"
     ]
    }
   ],
   "source": [
    "!pip install pandas numpy matplotlib seaborn scipy scikit-learn"
   ]
  },
  {
   "cell_type": "markdown",
   "id": "5db1ac56",
   "metadata": {},
   "source": [
    "# Clinical Data Exploration - Heart Disease \n",
    "**Author** Chloe Kamau\n",
    "\n",
    "**Date:** 20-09-2025\n",
    "\n",
    "**Objective:** Explore clinical predictors of heart disease using EDA and simple statistics"
   ]
  },
  {
   "cell_type": "code",
   "execution_count": null,
   "id": "a2c83396",
   "metadata": {},
   "outputs": [],
   "source": [
    "# Imports & plot settings\n",
    "import pandas as pd\n",
    "import numpty as np\n",
    "import matplotlib.pyplot as plt\n",
    "import seaborn as sns \n",
    "from scipy import stats\n",
    "\n",
    "# Plotting reference?"
   ]
  },
  {
   "cell_type": "code",
   "execution_count": 3,
   "id": "c7523362",
   "metadata": {},
   "outputs": [
    {
     "data": {
      "text/html": [
       "<div>\n",
       "<style scoped>\n",
       "    .dataframe tbody tr th:only-of-type {\n",
       "        vertical-align: middle;\n",
       "    }\n",
       "\n",
       "    .dataframe tbody tr th {\n",
       "        vertical-align: top;\n",
       "    }\n",
       "\n",
       "    .dataframe thead th {\n",
       "        text-align: right;\n",
       "    }\n",
       "</style>\n",
       "<table border=\"1\" class=\"dataframe\">\n",
       "  <thead>\n",
       "    <tr style=\"text-align: right;\">\n",
       "      <th></th>\n",
       "      <th>id</th>\n",
       "      <th>age</th>\n",
       "      <th>sex</th>\n",
       "      <th>dataset</th>\n",
       "      <th>cp</th>\n",
       "      <th>trestbps</th>\n",
       "      <th>chol</th>\n",
       "      <th>fbs</th>\n",
       "      <th>restecg</th>\n",
       "      <th>thalch</th>\n",
       "      <th>exang</th>\n",
       "      <th>oldpeak</th>\n",
       "      <th>slope</th>\n",
       "      <th>ca</th>\n",
       "      <th>thal</th>\n",
       "      <th>num</th>\n",
       "    </tr>\n",
       "  </thead>\n",
       "  <tbody>\n",
       "    <tr>\n",
       "      <th>0</th>\n",
       "      <td>1</td>\n",
       "      <td>63</td>\n",
       "      <td>Male</td>\n",
       "      <td>Cleveland</td>\n",
       "      <td>typical angina</td>\n",
       "      <td>145.0</td>\n",
       "      <td>233.0</td>\n",
       "      <td>True</td>\n",
       "      <td>lv hypertrophy</td>\n",
       "      <td>150.0</td>\n",
       "      <td>False</td>\n",
       "      <td>2.3</td>\n",
       "      <td>downsloping</td>\n",
       "      <td>0.0</td>\n",
       "      <td>fixed defect</td>\n",
       "      <td>0</td>\n",
       "    </tr>\n",
       "    <tr>\n",
       "      <th>1</th>\n",
       "      <td>2</td>\n",
       "      <td>67</td>\n",
       "      <td>Male</td>\n",
       "      <td>Cleveland</td>\n",
       "      <td>asymptomatic</td>\n",
       "      <td>160.0</td>\n",
       "      <td>286.0</td>\n",
       "      <td>False</td>\n",
       "      <td>lv hypertrophy</td>\n",
       "      <td>108.0</td>\n",
       "      <td>True</td>\n",
       "      <td>1.5</td>\n",
       "      <td>flat</td>\n",
       "      <td>3.0</td>\n",
       "      <td>normal</td>\n",
       "      <td>2</td>\n",
       "    </tr>\n",
       "    <tr>\n",
       "      <th>2</th>\n",
       "      <td>3</td>\n",
       "      <td>67</td>\n",
       "      <td>Male</td>\n",
       "      <td>Cleveland</td>\n",
       "      <td>asymptomatic</td>\n",
       "      <td>120.0</td>\n",
       "      <td>229.0</td>\n",
       "      <td>False</td>\n",
       "      <td>lv hypertrophy</td>\n",
       "      <td>129.0</td>\n",
       "      <td>True</td>\n",
       "      <td>2.6</td>\n",
       "      <td>flat</td>\n",
       "      <td>2.0</td>\n",
       "      <td>reversable defect</td>\n",
       "      <td>1</td>\n",
       "    </tr>\n",
       "    <tr>\n",
       "      <th>3</th>\n",
       "      <td>4</td>\n",
       "      <td>37</td>\n",
       "      <td>Male</td>\n",
       "      <td>Cleveland</td>\n",
       "      <td>non-anginal</td>\n",
       "      <td>130.0</td>\n",
       "      <td>250.0</td>\n",
       "      <td>False</td>\n",
       "      <td>normal</td>\n",
       "      <td>187.0</td>\n",
       "      <td>False</td>\n",
       "      <td>3.5</td>\n",
       "      <td>downsloping</td>\n",
       "      <td>0.0</td>\n",
       "      <td>normal</td>\n",
       "      <td>0</td>\n",
       "    </tr>\n",
       "    <tr>\n",
       "      <th>4</th>\n",
       "      <td>5</td>\n",
       "      <td>41</td>\n",
       "      <td>Female</td>\n",
       "      <td>Cleveland</td>\n",
       "      <td>atypical angina</td>\n",
       "      <td>130.0</td>\n",
       "      <td>204.0</td>\n",
       "      <td>False</td>\n",
       "      <td>lv hypertrophy</td>\n",
       "      <td>172.0</td>\n",
       "      <td>False</td>\n",
       "      <td>1.4</td>\n",
       "      <td>upsloping</td>\n",
       "      <td>0.0</td>\n",
       "      <td>normal</td>\n",
       "      <td>0</td>\n",
       "    </tr>\n",
       "  </tbody>\n",
       "</table>\n",
       "</div>"
      ],
      "text/plain": [
       "   id  age     sex    dataset               cp  trestbps   chol    fbs  \\\n",
       "0   1   63    Male  Cleveland   typical angina     145.0  233.0   True   \n",
       "1   2   67    Male  Cleveland     asymptomatic     160.0  286.0  False   \n",
       "2   3   67    Male  Cleveland     asymptomatic     120.0  229.0  False   \n",
       "3   4   37    Male  Cleveland      non-anginal     130.0  250.0  False   \n",
       "4   5   41  Female  Cleveland  atypical angina     130.0  204.0  False   \n",
       "\n",
       "          restecg  thalch  exang  oldpeak        slope   ca  \\\n",
       "0  lv hypertrophy   150.0  False      2.3  downsloping  0.0   \n",
       "1  lv hypertrophy   108.0   True      1.5         flat  3.0   \n",
       "2  lv hypertrophy   129.0   True      2.6         flat  2.0   \n",
       "3          normal   187.0  False      3.5  downsloping  0.0   \n",
       "4  lv hypertrophy   172.0  False      1.4    upsloping  0.0   \n",
       "\n",
       "                thal  num  \n",
       "0       fixed defect    0  \n",
       "1             normal    2  \n",
       "2  reversable defect    1  \n",
       "3             normal    0  \n",
       "4             normal    0  "
      ]
     },
     "execution_count": 3,
     "metadata": {},
     "output_type": "execute_result"
    }
   ],
   "source": [
    "import pandas as pd \n",
    "df = pd.read_csv (\"heart_disease_uci.csv\")\n",
    "df.head()"
   ]
  },
  {
   "cell_type": "code",
   "execution_count": 5,
   "id": "d0820a64",
   "metadata": {},
   "outputs": [
    {
     "data": {
      "text/plain": [
       "(920, 16)"
      ]
     },
     "execution_count": 5,
     "metadata": {},
     "output_type": "execute_result"
    }
   ],
   "source": [
    "df.shape"
   ]
  },
  {
   "cell_type": "markdown",
   "id": "379ecb12",
   "metadata": {},
   "source": [
    "Loaded dataset and checked the names (head) and shape of rows and columns\n",
    "- most important columns: age, sex, cp, trestbps, chol, thalch."
   ]
  },
  {
   "cell_type": "code",
   "execution_count": null,
   "id": "b44ffcbf",
   "metadata": {},
   "outputs": [
    {
     "name": "stdout",
     "output_type": "stream",
     "text": [
      "<class 'pandas.core.frame.DataFrame'>\n",
      "RangeIndex: 920 entries, 0 to 919\n",
      "Data columns (total 16 columns):\n",
      " #   Column    Non-Null Count  Dtype  \n",
      "---  ------    --------------  -----  \n",
      " 0   id        920 non-null    int64  \n",
      " 1   age       920 non-null    int64  \n",
      " 2   sex       920 non-null    object \n",
      " 3   dataset   920 non-null    object \n",
      " 4   cp        920 non-null    object \n",
      " 5   trestbps  861 non-null    float64\n",
      " 6   chol      890 non-null    float64\n",
      " 7   fbs       830 non-null    object \n",
      " 8   restecg   918 non-null    object \n",
      " 9   thalch    865 non-null    float64\n",
      " 10  exang     865 non-null    object \n",
      " 11  oldpeak   858 non-null    float64\n",
      " 12  slope     611 non-null    object \n",
      " 13  ca        309 non-null    float64\n",
      " 14  thal      434 non-null    object \n",
      " 15  num       920 non-null    int64  \n",
      "dtypes: float64(5), int64(3), object(8)\n",
      "memory usage: 115.1+ KB\n"
     ]
    },
    {
     "data": {
      "text/plain": [
       "id            0\n",
       "age           0\n",
       "sex           0\n",
       "dataset       0\n",
       "cp            0\n",
       "trestbps     59\n",
       "chol         30\n",
       "fbs          90\n",
       "restecg       2\n",
       "thalch       55\n",
       "exang        55\n",
       "oldpeak      62\n",
       "slope       309\n",
       "ca          611\n",
       "thal        486\n",
       "num           0\n",
       "dtype: int64"
      ]
     },
     "execution_count": 6,
     "metadata": {},
     "output_type": "execute_result"
    }
   ],
   "source": [
    "df.info()\n",
    "df.describe()\n",
    "df.isna().sum()"
   ]
  },
  {
   "cell_type": "markdown",
   "id": "f4ba5b20",
   "metadata": {},
   "source": [
    "### Missing values & data types \n",
    "The dataset contains a mix of numeric ('int64', 'float64') and categorical ('object') data types \n",
    "\n",
    "Based on '.isma().sum()' output:\n",
    "\n",
    "Columns with missing values:\n",
    "* trestbps     59\n",
    "* chol         30\n",
    "* fbs          90\n",
    "* restecg       2\n",
    "* thalch       55\n",
    "* exang        55\n",
    "* oldpeak      62\n",
    "* slope       309\n",
    "* ca          611\n",
    "* thal        486\n",
    "\n",
    "Deciding whether to **fill** (impute) or **drop** these missing values dependant on level of missing data."
   ]
  },
  {
   "cell_type": "code",
   "execution_count": 24,
   "id": "3ab428f5",
   "metadata": {},
   "outputs": [],
   "source": [
    "# Rename columns \n",
    "df = df.rename(columns= {'cp': 'chest_pain_type',\n",
    "    'trestbps': 'resting_bp',\n",
    "    'chol': 'cholesterol',\n",
    "    'fbs': 'fasting_blood_sugar',\n",
    "    'restecg': 'rest_ecg',\n",
    "    'thalch': 'max_heart_rate',\n",
    "    'exang': 'exercise_angina',\n",
    "    'num': 'target'})\n"
   ]
  },
  {
   "cell_type": "markdown",
   "id": "db3fd9ce",
   "metadata": {},
   "source": [
    "## Data Cleaning \n",
    "- (1) column renaming and (2) categorical variables \n",
    "\n",
    "1. I renamed some of the dataset columns for readibility and reference for analysis \n",
    "2. The 'sex' column, I kept as a categorical variable ('male','female') instead of converting them to binary (0/1) for better interpretation of plots and statistics.\n",
    "* Would use binary encoding (shown below) for machine learning tasks, but in EDA, categorical labels are preferred.\n",
    "\n",
    "```\n",
    "df['sex]= df['sex'].map({1:'male', 0:'female'})\n",
    "```"
   ]
  },
  {
   "cell_type": "code",
   "execution_count": 12,
   "id": "7dcbdf3a",
   "metadata": {},
   "outputs": [
    {
     "name": "stderr",
     "output_type": "stream",
     "text": [
      "Matplotlib is building the font cache; this may take a moment.\n"
     ]
    },
    {
     "data": {
      "image/png": "[encoded data removed]",
      "text/plain": [
       "<Figure size 1000x600 with 2 Axes>"
      ]
     },
     "metadata": {},
     "output_type": "display_data"
    }
   ],
   "source": [
    "import seaborn as sns\n",
    "import matplotlib.pyplot as plt\n",
    "# Visualise missing data \n",
    "\n",
    "plt.figure(figsize=(10, 6))\n",
    "sns.heatmap(df.isnull(), cbar=True, yticklabels=False, cmap='viridis')\n",
    "plt.title('Missing Data Heatmap')\n",
    "plt.show()"
   ]
  },
  {
   "cell_type": "markdown",
   "id": "e9a9a24a",
   "metadata": {},
   "source": [
    "## Visualisation\n",
    "\n",
    "Heat map to visualise which columns that have excessive missing data \n",
    "\n",
    "### Decision \n",
    "**Dropped columns**: 'slope', 'ca', 'thal' (>30% missing)\n",
    "**Imputed columns**: Remaining columns with <10% missing data"
   ]
  },
  {
   "cell_type": "code",
   "execution_count": 31,
   "id": "4b0724ba",
   "metadata": {},
   "outputs": [
    {
     "name": "stderr",
     "output_type": "stream",
     "text": [
      "C:\\Users\\user\\AppData\\Local\\Temp\\ipykernel_24820\\3589977042.py:12: FutureWarning: Downcasting object dtype arrays on .fillna, .ffill, .bfill is deprecated and will change in a future version. Call result.infer_objects(copy=False) instead. To opt-in to the future behavior, set `pd.set_option('future.no_silent_downcasting', True)`\n",
      "  df_clean = df_clean.fillna({\n"
     ]
    },
    {
     "data": {
      "text/plain": [
       "id                     0\n",
       "age                    0\n",
       "sex                    0\n",
       "dataset                0\n",
       "chest_pain_type        0\n",
       "resting_bp             0\n",
       "cholesterol            0\n",
       "fasting_blood_sugar    0\n",
       "rest_ecg               0\n",
       "max_heart_rate         0\n",
       "exercise_angina        0\n",
       "oldpeak                0\n",
       "target                 0\n",
       "dtype: int64"
      ]
     },
     "execution_count": 31,
     "metadata": {},
     "output_type": "execute_result"
    }
   ],
   "source": [
    "# 1. Drop excessive missing data columns\n",
    "df_clean = df.drop(['ca', 'thal', 'slope'], axis=1)\n",
    "\n",
    "# 2. Fill numeric columns with median \n",
    "df_clean = df_clean.fillna({\n",
    "    'resting_bp': df_clean['resting_bp'].median(),\n",
    "    'cholesterol': df_clean['cholesterol'].median(),\n",
    "    'max_heart_rate': df_clean['max_heart_rate'].median(),\n",
    "    'oldpeak': df_clean['oldpeak'].median()})\n",
    "\n",
    "# 3. Fill categorical columns with mode\n",
    "df_clean = df_clean.fillna({\n",
    "    'fasting_blood_sugar': df_clean['fasting_blood_sugar'].mode()[0],\n",
    "    'rest_ecg': df_clean['rest_ecg'].mode()[0],\n",
    "    'exercise_angina': df_clean['exercise_angina'].mode()[0]})\n",
    "\n",
    "df_clean.isnull().sum()\n",
    "\n",
    "\n"
   ]
  },
  {
   "cell_type": "markdown",
   "id": "081dbb5b",
   "metadata": {},
   "source": [
    "## Handling Missing Data\n",
    "\n",
    "**Original dataset:** (920,16)  \n",
    "**Final dataset:** *(920,13)\n",
    "### Strategy\n",
    "1. **Drop columns** with excessive missing data (>30%): 'ca', 'thal', 'slope'\n",
    "2. **Impute remaining columns** individually:\n",
    "   - Numeric columns: median imputation\n",
    "   - Categorical columns: mode imputation\n",
    "\n",
    "### Reasoning\n",
    "- Dropping columns with too much missing data avoids unreliable results\n",
    "- Imputing remaining columns preserves all 920 rows for analysis\n",
    "- Using median for numbers and mode for categories is standard practice"
   ]
  },
  {
   "cell_type": "markdown",
   "id": "c3e7e766",
   "metadata": {},
   "source": [
    "### Visualising age and target distribution\n",
    "\n",
    "These plots will give an initial understanding of the dataset’s composition:\n",
    "* Who is represented \n",
    "* How the target (heart disease severity) is distributed."
   ]
  },
  {
   "cell_type": "code",
   "execution_count": 32,
   "id": "11d3201b",
   "metadata": {},
   "outputs": [
    {
     "data": {
      "image/png": "[encoded data removed]",
      "text/plain": [
       "<Figure size 800x400 with 1 Axes>"
      ]
     },
     "metadata": {},
     "output_type": "display_data"
    },
    {
     "data": {
      "image/png": "[encoded data removed]",
      "text/plain": [
       "<Figure size 600x400 with 1 Axes>"
      ]
     },
     "metadata": {},
     "output_type": "display_data"
    }
   ],
   "source": [
    "import os\n",
    "os.makedirs('visuals', exist_ok=True)\n",
    "\n",
    "# Age distribution \n",
    "plt.figure(figsize=(8,4))\n",
    "sns.histplot(df_clean['age'], kde=True)\n",
    "plt.title('Age distribution')\n",
    "plt.savefig('visuals/age_distribution.png', dpi=200, bbox_inches='tight')\n",
    "plt.show()\n",
    "\n",
    "# Target counts\n",
    "plt.figure(figsize=(6,4))\n",
    "sns.countplot(x='target', data=df_clean)\n",
    "plt.title('Count of Heart Disease (target)')\n",
    "plt.savefig('visuals/target_counts.png', dpi=200, bbox_inches='tight')\n",
    "plt.show()"
   ]
  },
  {
   "cell_type": "markdown",
   "id": "2fd1a1e4",
   "metadata": {},
   "source": [
    "1. The histogram of `age` displays a roughly **bell-shaped (normal) distribution**, with most participants between **50–60 years old**.\n",
    "This shows that the dataset is mainly composed of **middle-aged adults**, which aligns with the age range typically associated with higher heart disease risk.\n",
    "\n",
    "\n",
    "2. The `target` variable represents the presence or severity of heart disease :\n",
    "* 0 = No heart disease\n",
    "* 1-4 = Increasing levels of heart disease severity\n",
    "\n",
    "The bar chart shows that most individuals (400+) in the dataset fall under **target =0**\n",
    "As the target value increases (indicating more severe conditions), the number of cases decreases significantly.\n",
    "\n",
    "Dataset is **imbalanced**, with more healthy individuals than patients with heart disease. \n",
    "\n"
   ]
  },
  {
   "cell_type": "markdown",
   "id": "51512bb3",
   "metadata": {},
   "source": [
    "### Cholesterol levels by heart disease severity \n",
    "After exploring the age distribution and identifying most paeople with heart disease are between 50-60 years old, next step is to investigate a different cardiovascular risk factor - **cholesterol**\n",
    "\n",
    "Will use a box plot to compare `cholesterol` levels across different heart disease severity (`target`).\n",
    "* This will help determine if individuals with heart disease (1,2,3,4) tend to have high cholesterol. "
   ]
  },
  {
   "cell_type": "code",
   "execution_count": 34,
   "id": "a52a8dd9",
   "metadata": {},
   "outputs": [
    {
     "data": {
      "image/png": "[encoded data removed]",
      "text/plain": [
       "<Figure size 800x400 with 1 Axes>"
      ]
     },
     "metadata": {},
     "output_type": "display_data"
    }
   ],
   "source": [
    "# Cholesterol v target \n",
    "plt.figure(figsize=(8,4))\n",
    "sns.boxplot(x='target', y='cholesterol', data=df_clean)\n",
    "plt.title('Cholesterol by Heart Disease')\n",
    "plt.xlabel('Heart Disease (1,2,3,4=yes, 0=no)')\n",
    "plt.ylabel('Cholesterol (mg/dl)')\n",
    "plt.savefig('visuals/cholesterol_by_target.png', dpi=200, bbox_inches='tight')\n",
    "plt.show()"
   ]
  },
  {
   "cell_type": "markdown",
   "id": "41e6f26e",
   "metadata": {},
   "source": [
    "Each box: Represents the cholesterol distribution for each group\n",
    "The line inside the box: Median cholesterol (middle value)\n",
    "Circles above the box: Outliers - people with unusually high cholesterol levels \n",
    "\n",
    "Prticipants with heart disease (target = 1-4), show a tendency towards higher cholesterol levels compared to those without heart disease(target=0)\n",
    "There is substantial overlap between groups, suggesting that cholesterol alone is **not a strong predictor** of heart diseas in this dataset.\n",
    "Several outliers with very high cholesterol (>400 mg/dL) indicates extreme lipid levels in certain individuals \n",
    "- In all, high cholesterol contributes to cardiovascular risk, but the risk interacts with other clinical and lifestyle factors so should not look at this alone. "
   ]
  },
  {
   "cell_type": "markdown",
   "id": "2f244886",
   "metadata": {},
   "source": [
    "## Group Statistics\n",
    "\n",
    "To better understand how key health indicators differ between people with and without heart disease, will calculate group statistics.\n",
    "- This helps summarise the average age, cholesterol levels and other variables across the different heart disease categories, providing a clearer overall picture beyond individual plots. "
   ]
  },
  {
   "cell_type": "code",
   "execution_count": 47,
   "id": "a4a3ac8d",
   "metadata": {},
   "outputs": [
    {
     "name": "stdout",
     "output_type": "stream",
     "text": [
      "         age      cholesterol        resting_bp      \n",
      "        mean  std        mean    std       mean   std\n",
      "target                                               \n",
      "0       50.5  9.4       227.7   74.1      129.9  16.5\n",
      "1       53.5  8.7       196.0  122.6      132.7  19.4\n",
      "2       57.6  7.8       145.3  130.8      133.3  16.7\n",
      "3       59.2  8.0       160.3  126.4      135.3  23.1\n",
      "4       59.2  8.3       193.2  114.6      137.8  21.1\n"
     ]
    }
   ],
   "source": [
    "#Group statistics \n",
    "group_stats = df_clean.groupby('target').agg({\n",
    "    'age':['mean', 'std'],\n",
    "    'cholesterol':['mean', 'std'],\n",
    "    'resting_bp':['mean', 'std']\n",
    "}).round(1)\n",
    "\n",
    "print(group_stats)"
   ]
  },
  {
   "cell_type": "markdown",
   "id": "6222a4e6",
   "metadata": {},
   "source": [
    "From group summary can see that:\n",
    "Individuals with higher heart disease tend to have **slightly higher cholesterol and blood pressure on avg**\n",
    "* = aligns with medical expectations as both are known risk factors for heart disease \n",
    "\n",
    "Age distribution also **slightly higher** in heart disease \n",
    "* = suggests risk increases with age "
   ]
  },
  {
   "cell_type": "markdown",
   "id": "c053506c",
   "metadata": {},
   "source": [
    "## Statistical Test\n",
    "\n",
    "To check whether the observed differences in cholesterol (and other features) across heart disease groups are statistically significant, I will perform a one-way ANOVA test.\n",
    "* This test compares the mean cholesterol levels between the target groups (0-4) to see if at least one differs significantly from the others.\n",
    "\n",
    "### Why I chose one-way ANOVA over other statistical tests:\n",
    "\n",
    "* **T-test**: Would only compare *two* groups at a time (e.g., heart disease vs no heart disease), which is not appropriate here since there are multiple severity levels (0-4).\n",
    "* **Chi-square test**: Used for categorical (non-numeric) data, whereas cholesterol is a continuous numerical variable.\n"
   ]
  },
  {
   "cell_type": "code",
   "execution_count": 48,
   "id": "59be67a7",
   "metadata": {},
   "outputs": [
    {
     "name": "stdout",
     "output_type": "stream",
     "text": [
      "ANOVA Results - Testing differences across heart disease severity:\n",
      "\n",
      "age: F-statistic = 31.226, P-value = 0.0000\n",
      "  → Significant difference found! (p < 0.05)\n",
      "\n",
      "cholesterol: F-statistic = 18.437, P-value = 0.0000\n",
      "  → Significant difference found! (p < 0.05)\n",
      "\n",
      "resting_bp: F-statistic = 3.123, P-value = 0.0145\n",
      "  → Significant difference found! (p < 0.05)\n",
      "\n",
      "max_heart_rate: F-statistic = 42.141, P-value = 0.0000\n",
      "  → Significant difference found! (p < 0.05)\n",
      "\n"
     ]
    }
   ],
   "source": [
    "from scipy import stats\n",
    "\n",
    "# Test significance in clinically relevant variables\n",
    "variables_to_test = ['age', 'cholesterol', 'resting_bp', 'max_heart_rate']\n",
    "\n",
    "print(\"ANOVA Results - Testing differences across heart disease severity:\\n\")\n",
    "for var in variables_to_test:\n",
    "    groups = [df_clean[df_clean['target'] == i][var].dropna() for i in df_clean['target'].unique()]\n",
    "    f_stat, p_value = stats.f_oneway(*groups)\n",
    "    print(f\"{var}: F-statistic = {f_stat:.3f}, P-value = {p_value:.4f}\")\n",
    "    if p_value < 0.05:\n",
    "        print(f\"  → Significant difference found! (p < 0.05)\\n\")\n",
    "    else:\n",
    "        print(f\"  → No significant difference (p ≥ 0.05)\\n\")"
   ]
  },
  {
   "cell_type": "markdown",
   "id": "ba9b2750",
   "metadata": {},
   "source": [
    "## ANOVA Results\n",
    "\n",
    "All tested variables show **statistically significant differences** across heart disease severity levels (p < 0.05):\n",
    "\n",
    "* **Age**: F = 31.23, p < 0.001 - Strong evidence that age differs by disease severity\n",
    "* **Cholesterol**: F = 18.44, p < 0.001 - Cholesterol levels vary significantly across groups\n",
    "* **Resting Blood Pressure**: F = 3.12, p = 0.015 - Weakest but still significant difference\n",
    "* **Max Heart Rate**: F = 42.14, p < 0.001 - Largest F-statistic and very small p-value, shows clear differences between severity levels\n",
    "\n",
    "Overall:\n",
    "This suggests that as heart disease becomes more severe, patients tend to:\n",
    "* Be older\n",
    "* Have higher cholesterol levels\n",
    "* Have a slightly higher resting blood pressure\n",
    "* Achieve a lower maximum heart rate during exercise \n",
    "\n",
    "**Max heart rate** shows the strongest effect (highest F-statistic), suggesting it may be one of the most important features for distinguishing between disease severity levels.\n",
    "\n",
    "#### These results indicate that all four variables are **significantly associated with heart disease severity** and could be valuable predictors in a classification model. The low p-values (especially for age, cholesterol, and max heart rate) suggest these differences are unlikely due to chance."
   ]
  },
  {
   "cell_type": "markdown",
   "id": "39c06eb2",
   "metadata": {},
   "source": [
    "## Conclusion and Limitations\n",
    "\n",
    "### Conclusion\n",
    "\n",
    "This exploratory data analysis examined clinical and lifestyle factors associated with heart disease using the UCI Heart Disease dataset. \n",
    "Key findings include:\n",
    "\n",
    "* **Age and heart disease**: Individuals with heart disease tended to be older, with most cases clustering between ages 50–60.\n",
    "* **Cholesterol**: Higher cholesterol levels were observed among patients with more severe heart disease.\n",
    "* **Resting blood pressure**: Slight increases in resting blood pressure were associated with heart disease, though the relationship was weaker.\n",
    "* **Maximum heart rate**: Those with heart disease achieved lower maximum heart rates, consistent with reduced cardiovascular fitness.\n",
    "\n",
    "Statistical testing using **one-way ANOVA** confirmed that these differences were statistically significant (p < 0.05) across all four variables, with maximum heart rate showing the strongest effect (F = 42.14), meaning meaningful variation in these risk factors with disease severity.\n",
    "\n",
    "\n",
    "\n",
    "### Limitations\n",
    "\n",
    "* The dataset size is relatively small (920 observations), limiting how confidently results can generalise to larger populations.\n",
    "* Missing data required imputation and dropping, which may introduce bias into the results.\n",
    "* Some features (e.g., cholesterol or blood pressure values) may be influenced by measurement differences or missing clinical context.\n",
    "* The data is cross-sectional, so it cannot establish cause and effect — only associations.\n",
    "* Potential confounding variables (such as medication use, diet, or physical activity) are not included.\n",
    "* The severity of heart disease (target) is represented as a numeric category (0-4) rather than precise medical diagnoses, simplifying a complex clinical spectrum.\n",
    "\n",
    "\n",
    "\n",
    "### Overall Summary\n",
    "\n",
    "Despite these limitations, the analysis successfully demonstrates how exploratory data analysis (EDA) and statistical testing can reveal meaningful clinical patterns within biomedical data. The findings provide a solid foundation for more advanced predictive modeling (e.g. machine learning classification) in future work."
   ]
  }
 ],
 "metadata": {
  "kernelspec": {
   "display_name": "Python 3",
   "language": "python",
   "name": "python3"
  },
  "language_info": {
   "codemirror_mode": {
    "name": "ipython",
    "version": 3
   },
   "file_extension": ".py",
   "mimetype": "text/x-python",
   "name": "python",
   "nbconvert_exporter": "python",
   "pygments_lexer": "ipython3",
   "version": "3.11.9"
  }
 },
 "nbformat": 4,
 "nbformat_minor": 5
}
